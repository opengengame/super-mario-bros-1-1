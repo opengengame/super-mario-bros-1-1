{
 "cells": [
  {
   "cell_type": "code",
   "execution_count": 1,
   "metadata": {},
   "outputs": [],
   "source": [
    "import os\n",
    "import numpy as np\n",
    "from PIL import Image\n",
    "import torchvision"
   ]
  },
  {
   "cell_type": "code",
   "execution_count": 2,
   "metadata": {},
   "outputs": [],
   "source": [
    "result_dir = '/mnt/store/kmei1/projects/video-generation/third_party/pixel-nerf/scripts/results'\n",
    "sampels = os.listdir(result_dir)"
   ]
  },
  {
   "cell_type": "code",
   "execution_count": 41,
   "metadata": {},
   "outputs": [
    {
     "data": {
      "text/plain": [
       "((251, 128, 128, 3), 255)"
      ]
     },
     "execution_count": 41,
     "metadata": {},
     "output_type": "execute_result"
    }
   ],
   "source": [
    "idx = 14\n",
    "sample = sampels[idx]\n",
    "\n",
    "frames = os.listdir(os.path.join(result_dir, sample))\n",
    "frames = [path for path in frames if path.endswith('.png')]\n",
    "frames.sort()\n",
    "frames = [np.asarray(Image.open(os.path.join(result_dir, sample, frame)).convert('RGB')) for frame in frames]\n",
    "frames = np.stack(frames, axis=0)\n",
    "frames[frames==0] = 255\n",
    "frames.shape, frames.max()"
   ]
  },
  {
   "cell_type": "code",
   "execution_count": 42,
   "metadata": {},
   "outputs": [],
   "source": [
    "torchvision.io.write_video(\n",
    "    \"../samples/%06d.mp4\" % idx,\n",
    "    frames,\n",
    "    fps=18,\n",
    "    video_codec=\"h264\",\n",
    ")"
   ]
  },
  {
   "cell_type": "code",
   "execution_count": null,
   "metadata": {},
   "outputs": [],
   "source": []
  }
 ],
 "metadata": {
  "kernelspec": {
   "display_name": "envs",
   "language": "python",
   "name": "python3"
  },
  "language_info": {
   "codemirror_mode": {
    "name": "ipython",
    "version": 3
   },
   "file_extension": ".py",
   "mimetype": "text/x-python",
   "name": "python",
   "nbconvert_exporter": "python",
   "pygments_lexer": "ipython3",
   "version": "3.9.13"
  },
  "orig_nbformat": 4
 },
 "nbformat": 4,
 "nbformat_minor": 2
}
