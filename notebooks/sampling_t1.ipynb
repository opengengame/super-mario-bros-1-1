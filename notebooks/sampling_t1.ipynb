{
 "cells": [
  {
   "cell_type": "code",
   "execution_count": 1,
   "metadata": {},
   "outputs": [
    {
     "name": "stderr",
     "output_type": "stream",
     "text": [
      "/mnt/store/kmei1/projects/t1/codes/clean-T1/envs/lib/python3.12/site-packages/tqdm/auto.py:21: TqdmWarning: IProgress not found. Please update jupyter and ipywidgets. See https://ipywidgets.readthedocs.io/en/stable/user_install.html\n",
      "  from .autonotebook import tqdm as notebook_tqdm\n",
      "/mnt/store/kmei1/projects/t1/codes/clean-T1/envs/lib/python3.12/site-packages/xformers/ops/fmha/flash.py:211: FutureWarning: `torch.library.impl_abstract` was renamed to `torch.library.register_fake`. Please use that instead; we will remove `torch.library.impl_abstract` in a future version of PyTorch.\n",
      "  @torch.library.impl_abstract(\"xformers_flash::flash_fwd\")\n",
      "/mnt/store/kmei1/projects/t1/codes/clean-T1/envs/lib/python3.12/site-packages/xformers/ops/fmha/flash.py:344: FutureWarning: `torch.library.impl_abstract` was renamed to `torch.library.register_fake`. Please use that instead; we will remove `torch.library.impl_abstract` in a future version of PyTorch.\n",
      "  @torch.library.impl_abstract(\"xformers_flash::flash_bwd\")\n"
     ]
    }
   ],
   "source": [
    "import sys\n",
    "sys.path.append('../')\n",
    "\n",
    "import importlib\n",
    "from omegaconf import OmegaConf\n",
    "\n",
    "import torch\n",
    "import torchvision\n",
    "from diffusers.models import AutoencoderKL\n",
    "from diffusion import create_diffusion\n",
    "from einops import rearrange\n",
    "from tqdm import tqdm\n",
    "\n",
    "configs = OmegaConf.load(\"../configs/mario_t1_v0.yaml\")\n",
    "\n",
    "device = \"cuda:5\""
   ]
  },
  {
   "cell_type": "code",
   "execution_count": 33,
   "metadata": {},
   "outputs": [
    {
     "name": "stderr",
     "output_type": "stream",
     "text": [
      "/tmp/ipykernel_247185/3302454308.py:4: FutureWarning: You are using `torch.load` with `weights_only=False` (the current default value), which uses the default pickle module implicitly. It is possible to construct malicious pickle data which will execute arbitrary code during unpickling (See https://github.com/pytorch/pytorch/blob/main/SECURITY.md#untrusted-models for more details). In a future release, the default value for `weights_only` will be flipped to `True`. This limits the functions that could be executed during unpickling. Arbitrary objects will no longer be allowed to be loaded via this mode unless they are explicitly allowlisted by the user via `torch.serialization.add_safe_globals`. We recommend you start setting `weights_only=True` for any use case where you don't have full control of the loaded file. Please open an issue on GitHub for any issues related to this experimental feature.\n",
      "  model.load_state_dict(torch.load(\"../results/002-t1/checkpoints/0007000.pt\", map_location=\"cpu\")[\"ema\"])\n"
     ]
    },
    {
     "data": {
      "text/plain": [
       "Model(\n",
       "  (x_embedder): PatchEmbed(\n",
       "    (proj): Conv2d(4, 1152, kernel_size=(2, 2), stride=(2, 2))\n",
       "    (norm): Identity()\n",
       "  )\n",
       "  (t_embedder): TimestepEmbedder(\n",
       "    (mlp): Sequential(\n",
       "      (0): Linear(in_features=256, out_features=1152, bias=True)\n",
       "      (1): SiLU()\n",
       "      (2): Linear(in_features=1152, out_features=1152, bias=True)\n",
       "    )\n",
       "  )\n",
       "  (blocks): ModuleList(\n",
       "    (0-27): 28 x DiTBlock(\n",
       "      (norm1): LayerNorm((1152,), eps=1e-06, elementwise_affine=False)\n",
       "      (attn): Attention(\n",
       "        (qkv): Linear(in_features=1152, out_features=3456, bias=True)\n",
       "        (q_norm): Identity()\n",
       "        (k_norm): Identity()\n",
       "        (attn_drop): Dropout(p=0.0, inplace=False)\n",
       "        (proj): Linear(in_features=1152, out_features=1152, bias=True)\n",
       "        (proj_drop): Dropout(p=0.0, inplace=False)\n",
       "      )\n",
       "      (norm2): LayerNorm((1152,), eps=1e-06, elementwise_affine=False)\n",
       "      (mlp): Mlp(\n",
       "        (fc1): Linear(in_features=1152, out_features=4608, bias=True)\n",
       "        (act): GELU(approximate='tanh')\n",
       "        (drop1): Dropout(p=0, inplace=False)\n",
       "        (norm): Identity()\n",
       "        (fc2): Linear(in_features=4608, out_features=1152, bias=True)\n",
       "        (drop2): Dropout(p=0, inplace=False)\n",
       "      )\n",
       "      (adaLN_modulation): Sequential(\n",
       "        (0): SiLU()\n",
       "        (1): Linear(in_features=1152, out_features=6912, bias=True)\n",
       "      )\n",
       "    )\n",
       "  )\n",
       "  (final_layer): FinalLayer(\n",
       "    (norm_final): LayerNorm((1152,), eps=1e-06, elementwise_affine=False)\n",
       "    (linear): Linear(in_features=1152, out_features=32, bias=True)\n",
       "    (adaLN_modulation): Sequential(\n",
       "      (0): SiLU()\n",
       "      (1): Linear(in_features=1152, out_features=2304, bias=True)\n",
       "    )\n",
       "  )\n",
       ")"
      ]
     },
     "execution_count": 33,
     "metadata": {},
     "output_type": "execute_result"
    }
   ],
   "source": [
    "model = importlib.import_module(\"models.t1\").Model(\n",
    "    **configs.get(\"model\", {})\n",
    ")\n",
    "model.load_state_dict(torch.load(\"../results/002-t1/checkpoints/0007000.pt\", map_location=\"cpu\")[\"ema\"])\n",
    "model.to(device)"
   ]
  },
  {
   "cell_type": "code",
   "execution_count": 5,
   "metadata": {},
   "outputs": [],
   "source": [
    "configs.dataset.data_root = \"/mnt/store/kmei1/projects/t1/datasets/super-mario-bros-reinforcement-learning/clips/\""
   ]
  },
  {
   "cell_type": "code",
   "execution_count": 6,
   "metadata": {},
   "outputs": [
    {
     "name": "stdout",
     "output_type": "stream",
     "text": [
      "env: HF_HOME=/mnt/store/kmei1/HF_HOME/\n"
     ]
    }
   ],
   "source": [
    "%env HF_HOME=/mnt/store/kmei1/HF_HOME/\n",
    "\n",
    "vae = AutoencoderKL.from_pretrained(\"stabilityai/sdxl-vae\").to(device)\n",
    "dataset = importlib.import_module(\"datasets.action_video\").Dataset(\n",
    "    **configs.get(\"dataset\", {})\n",
    ")"
   ]
  },
  {
   "cell_type": "code",
   "execution_count": 32,
   "metadata": {},
   "outputs": [],
   "source": [
    "diffusion = create_diffusion(\n",
    "    timestep_respacing=\"ddim20\",\n",
    ")"
   ]
  },
  {
   "cell_type": "code",
   "execution_count": 39,
   "metadata": {},
   "outputs": [],
   "source": [
    "data = dataset[11]\n",
    "x, _, pos = data\n",
    "\n",
    "pos = torch.from_numpy(pos[None]).to(device)\n",
    "x =  torch.from_numpy(x[None]).to(device)\n",
    "with torch.no_grad():\n",
    "    T = x.shape[2]\n",
    "    x = rearrange(x, \"N C T H W -> (N T) C H W\")\n",
    "    x = vae.encode(x).latent_dist.sample().mul_(0.13025)\n",
    "    x = rearrange(x, \"(N T) C H W -> N C T H W\", T=T)\n",
    "\n",
    "# inject the last frame\n",
    "past_frame, x = x[:, :, :-1], x[:, :, -1:]\n",
    "past_pos, pos = pos[:, :, :-1], pos[:, :, -1:]\n",
    "\n",
    "bsz = x.shape[0]"
   ]
  },
  {
   "cell_type": "code",
   "execution_count": 40,
   "metadata": {},
   "outputs": [
    {
     "name": "stderr",
     "output_type": "stream",
     "text": [
      "100%|██████████| 4/4 [01:11<00:00, 18.00s/it]\n"
     ]
    }
   ],
   "source": [
    "all_frames = past_frame\n",
    "all_poses = past_pos\n",
    "to_be_generate_frames = 4\n",
    "\n",
    "memory_frames = 16\n",
    "\n",
    "for _ in tqdm(range(to_be_generate_frames)):\n",
    "    z = torch.randn(bsz, 4, 1, 32, 32, device=device)\n",
    "    model_kwargs = dict(\n",
    "        pos=pos,\n",
    "        past_frame=all_frames[:, :, -memory_frames:],\n",
    "        # past_pos=all_poses[:, :, -memory_frames:]\n",
    "        past_pos = past_pos\n",
    "    )\n",
    "\n",
    "    with torch.no_grad():\n",
    "        samples = diffusion.p_sample_loop(\n",
    "            model, z.shape, z, clip_denoised=False, model_kwargs=model_kwargs, progress=False, device=device\n",
    "        )\n",
    "    all_frames = torch.cat([all_frames, samples], dim=2)\n",
    "    all_poses = torch.cat([all_poses, pos], dim=2)"
   ]
  },
  {
   "cell_type": "code",
   "execution_count": 41,
   "metadata": {},
   "outputs": [],
   "source": [
    "# samples = torch.cat([past_frame, samples], dim=2)\n",
    "_samples = rearrange(all_frames[:, :, 16:], \"N C T H W -> (N T) C H W\")\n",
    "# _samples = rearrange(past_frame, \"N C T H W -> (N T) C H W\")\n",
    "with torch.no_grad():\n",
    "    samples = []\n",
    "    for frame in _samples:\n",
    "        samples.append(vae.decode(frame.unsqueeze(0) / 0.13025).sample)\n",
    "    samples = torch.cat(samples)\n",
    "samples = torch.clamp(samples, -1, 1)\n",
    "del _samples"
   ]
  },
  {
   "cell_type": "code",
   "execution_count": 42,
   "metadata": {},
   "outputs": [],
   "source": [
    "video = 255 * (samples.clip(-1, 1) / 2 + 0.5)"
   ]
  },
  {
   "cell_type": "code",
   "execution_count": 43,
   "metadata": {},
   "outputs": [],
   "source": [
    "import numpy as np\n",
    "import PIL.Image as Image\n",
    "\n",
    "screeshoot = Image.fromarray(np.uint8(rearrange(video.cpu().numpy(), \"T C H W -> H (T W) C\")))\n",
    "screeshoot.save(\"samples.png\")"
   ]
  },
  {
   "cell_type": "code",
   "execution_count": 44,
   "metadata": {},
   "outputs": [],
   "source": [
    "torchvision.io.write_video(\n",
    "    \"samples.mp4\",\n",
    "    video.permute(0, 2, 3, 1).cpu().numpy(),\n",
    "    fps=8,\n",
    "    video_codec=\"h264\",\n",
    ")"
   ]
  },
  {
   "cell_type": "code",
   "execution_count": null,
   "metadata": {},
   "outputs": [],
   "source": []
  }
 ],
 "metadata": {
  "kernelspec": {
   "display_name": "envs",
   "language": "python",
   "name": "python3"
  },
  "language_info": {
   "codemirror_mode": {
    "name": "ipython",
    "version": 3
   },
   "file_extension": ".py",
   "mimetype": "text/x-python",
   "name": "python",
   "nbconvert_exporter": "python",
   "pygments_lexer": "ipython3",
   "version": "3.12.4"
  }
 },
 "nbformat": 4,
 "nbformat_minor": 2
}
