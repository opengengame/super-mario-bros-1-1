{
 "cells": [
  {
   "cell_type": "code",
   "execution_count": 1,
   "metadata": {},
   "outputs": [
    {
     "name": "stderr",
     "output_type": "stream",
     "text": [
      "/mnt/store/kmei1/projects/t1/codes/clean-T1/envs/lib/python3.12/site-packages/tqdm/auto.py:21: TqdmWarning: IProgress not found. Please update jupyter and ipywidgets. See https://ipywidgets.readthedocs.io/en/stable/user_install.html\n",
      "  from .autonotebook import tqdm as notebook_tqdm\n",
      "/mnt/store/kmei1/projects/t1/codes/clean-T1/envs/lib/python3.12/site-packages/xformers/ops/fmha/flash.py:211: FutureWarning: `torch.library.impl_abstract` was renamed to `torch.library.register_fake`. Please use that instead; we will remove `torch.library.impl_abstract` in a future version of PyTorch.\n",
      "  @torch.library.impl_abstract(\"xformers_flash::flash_fwd\")\n",
      "/mnt/store/kmei1/projects/t1/codes/clean-T1/envs/lib/python3.12/site-packages/xformers/ops/fmha/flash.py:344: FutureWarning: `torch.library.impl_abstract` was renamed to `torch.library.register_fake`. Please use that instead; we will remove `torch.library.impl_abstract` in a future version of PyTorch.\n",
      "  @torch.library.impl_abstract(\"xformers_flash::flash_bwd\")\n"
     ]
    }
   ],
   "source": [
    "import sys\n",
    "sys.path.append('../')\n",
    "\n",
    "import importlib\n",
    "from omegaconf import OmegaConf\n",
    "\n",
    "import torch\n",
    "import torchvision\n",
    "from diffusers.models import AutoencoderKL\n",
    "from diffusion import create_diffusion\n",
    "from einops import rearrange\n",
    "from tqdm import tqdm\n",
    "\n",
    "configs = OmegaConf.load(\"../configs/mario_t1_v0.yaml\")\n",
    "\n",
    "device = \"cuda:7\""
   ]
  },
  {
   "cell_type": "code",
   "execution_count": 2,
   "metadata": {},
   "outputs": [
    {
     "name": "stderr",
     "output_type": "stream",
     "text": [
      "/tmp/ipykernel_2792444/4290168406.py:4: FutureWarning: You are using `torch.load` with `weights_only=False` (the current default value), which uses the default pickle module implicitly. It is possible to construct malicious pickle data which will execute arbitrary code during unpickling (See https://github.com/pytorch/pytorch/blob/main/SECURITY.md#untrusted-models for more details). In a future release, the default value for `weights_only` will be flipped to `True`. This limits the functions that could be executed during unpickling. Arbitrary objects will no longer be allowed to be loaded via this mode unless they are explicitly allowlisted by the user via `torch.serialization.add_safe_globals`. We recommend you start setting `weights_only=True` for any use case where you don't have full control of the loaded file. Please open an issue on GitHub for any issues related to this experimental feature.\n",
      "  model.load_state_dict(torch.load(\"../results/002-t1/checkpoints/0180000.pt\", map_location=\"cpu\")[\"ema\"])\n"
     ]
    },
    {
     "data": {
      "text/plain": [
       "Model(\n",
       "  (x_embedder): PatchEmbed(\n",
       "    (proj): Conv2d(4, 1152, kernel_size=(2, 2), stride=(2, 2))\n",
       "    (norm): Identity()\n",
       "  )\n",
       "  (t_embedder): TimestepEmbedder(\n",
       "    (mlp): Sequential(\n",
       "      (0): Linear(in_features=256, out_features=1152, bias=True)\n",
       "      (1): SiLU()\n",
       "      (2): Linear(in_features=1152, out_features=1152, bias=True)\n",
       "    )\n",
       "  )\n",
       "  (blocks): ModuleList(\n",
       "    (0-27): 28 x DiTBlock(\n",
       "      (norm1): LayerNorm((1152,), eps=1e-06, elementwise_affine=False)\n",
       "      (attn): Attention(\n",
       "        (qkv): Linear(in_features=1152, out_features=3456, bias=True)\n",
       "        (q_norm): Identity()\n",
       "        (k_norm): Identity()\n",
       "        (attn_drop): Dropout(p=0.0, inplace=False)\n",
       "        (proj): Linear(in_features=1152, out_features=1152, bias=True)\n",
       "        (proj_drop): Dropout(p=0.0, inplace=False)\n",
       "      )\n",
       "      (norm2): LayerNorm((1152,), eps=1e-06, elementwise_affine=False)\n",
       "      (mlp): Mlp(\n",
       "        (fc1): Linear(in_features=1152, out_features=4608, bias=True)\n",
       "        (act): GELU(approximate='tanh')\n",
       "        (drop1): Dropout(p=0, inplace=False)\n",
       "        (norm): Identity()\n",
       "        (fc2): Linear(in_features=4608, out_features=1152, bias=True)\n",
       "        (drop2): Dropout(p=0, inplace=False)\n",
       "      )\n",
       "      (adaLN_modulation): Sequential(\n",
       "        (0): SiLU()\n",
       "        (1): Linear(in_features=1152, out_features=6912, bias=True)\n",
       "      )\n",
       "    )\n",
       "  )\n",
       "  (final_layer): FinalLayer(\n",
       "    (norm_final): LayerNorm((1152,), eps=1e-06, elementwise_affine=False)\n",
       "    (linear): Linear(in_features=1152, out_features=32, bias=True)\n",
       "    (adaLN_modulation): Sequential(\n",
       "      (0): SiLU()\n",
       "      (1): Linear(in_features=1152, out_features=2304, bias=True)\n",
       "    )\n",
       "  )\n",
       ")"
      ]
     },
     "execution_count": 2,
     "metadata": {},
     "output_type": "execute_result"
    }
   ],
   "source": [
    "model = importlib.import_module(\"models.t1\").Model(\n",
    "    **configs.get(\"model\", {})\n",
    ")\n",
    "model.load_state_dict(torch.load(\"../results/002-t1/checkpoints/0180000.pt\", map_location=\"cpu\")[\"ema\"])\n",
    "model.to(device)"
   ]
  },
  {
   "cell_type": "code",
   "execution_count": 3,
   "metadata": {},
   "outputs": [],
   "source": [
    "# configs.dataset.data_root = \"/data/kmei1/projects/t1/datasets/super-mario-bros-reinforcement-learning/clips/\"\n",
    "configs.dataset.data_root = \"../demo\""
   ]
  },
  {
   "cell_type": "code",
   "execution_count": 4,
   "metadata": {},
   "outputs": [
    {
     "name": "stdout",
     "output_type": "stream",
     "text": [
      "env: HF_HOME=/mnt/store/kmei1/HF_HOME/\n"
     ]
    }
   ],
   "source": [
    "%env HF_HOME=/mnt/store/kmei1/HF_HOME/\n",
    "\n",
    "vae = AutoencoderKL.from_pretrained(\"stabilityai/sdxl-vae\").to(device)\n",
    "dataset = importlib.import_module(\"datasets.action_video\").Dataset(\n",
    "    **configs.get(\"dataset\", {})\n",
    ")"
   ]
  },
  {
   "cell_type": "code",
   "execution_count": 5,
   "metadata": {},
   "outputs": [
    {
     "data": {
      "text/plain": [
       "1"
      ]
     },
     "execution_count": 5,
     "metadata": {},
     "output_type": "execute_result"
    }
   ],
   "source": [
    "len(dataset)"
   ]
  },
  {
   "cell_type": "code",
   "execution_count": 6,
   "metadata": {},
   "outputs": [],
   "source": [
    "diffusion = create_diffusion(\n",
    "    timestep_respacing=\"ddim20\",\n",
    ")"
   ]
  },
  {
   "cell_type": "code",
   "execution_count": 7,
   "metadata": {},
   "outputs": [
    {
     "data": {
      "text/plain": [
       "array([ 1.00005   ,  1.01537155,  1.05694924,  1.12802816,  1.23433557,\n",
       "        1.38485689,  1.59310998,  1.87917285,  2.27289158,  2.81898437,\n",
       "        3.58525069,  4.67595457,  6.25397201,  8.57802886, 12.06635336,\n",
       "       17.40734793, 25.75540041, 39.08357136, 60.83052327, 97.10942819])"
      ]
     },
     "execution_count": 7,
     "metadata": {},
     "output_type": "execute_result"
    }
   ],
   "source": [
    "diffusion.sqrt_recip_alphas_cumprod"
   ]
  },
  {
   "cell_type": "code",
   "execution_count": 20,
   "metadata": {},
   "outputs": [],
   "source": [
    "data = dataset[0]\n",
    "x, actions, pos = data\n",
    "\n",
    "pos = torch.from_numpy(pos[None]).to(device)\n",
    "x =  torch.from_numpy(x[None]).to(device)\n",
    "with torch.no_grad():\n",
    "    T = x.shape[2]\n",
    "    x = rearrange(x, \"N C T H W -> (N T) C H W\")\n",
    "    x = vae.encode(x).latent_dist.sample().mul_(0.13025)\n",
    "    x = rearrange(x, \"(N T) C H W -> N C T H W\", T=T)\n",
    "\n",
    "# inject the last frame\n",
    "past_frame, x = x[:, :, :-1], x[:, :, -1:]\n",
    "past_pos, pos = pos[:, :, :-1], pos[:, :, -1:]\n",
    "\n",
    "bsz = x.shape[0]"
   ]
  },
  {
   "cell_type": "code",
   "execution_count": 21,
   "metadata": {},
   "outputs": [
    {
     "data": {
      "text/plain": [
       "[4, 4, 4, 4, 4, 4, 4, 4, 4, 4, 4, 4, 4, 4, 4, 4, 4]"
      ]
     },
     "execution_count": 21,
     "metadata": {},
     "output_type": "execute_result"
    }
   ],
   "source": [
    "actions"
   ]
  },
  {
   "cell_type": "code",
   "execution_count": 22,
   "metadata": {},
   "outputs": [
    {
     "name": "stderr",
     "output_type": "stream",
     "text": [
      "  0%|          | 0/64 [00:00<?, ?it/s]/mnt/store/kmei1/projects/t1/codes/clean-T1/envs/lib/python3.12/site-packages/torch/_dynamo/eval_frame.py:600: UserWarning: torch.utils.checkpoint: the use_reentrant parameter should be passed explicitly. In version 2.4 we will raise an exception if use_reentrant is not passed. use_reentrant=False is recommended, but if you need to preserve the current default behavior, you can pass use_reentrant=True. Refer to docs for more details on the differences between the two variants.\n",
      "  return fn(*args, **kwargs)\n",
      "/mnt/store/kmei1/projects/t1/codes/clean-T1/envs/lib/python3.12/site-packages/torch/utils/checkpoint.py:92: UserWarning: None of the inputs have requires_grad=True. Gradients will be None\n",
      "  warnings.warn(\n",
      "100%|██████████| 64/64 [13:37<00:00, 12.78s/it]\n"
     ]
    }
   ],
   "source": [
    "all_frames = past_frame\n",
    "all_poses = past_pos\n",
    "to_be_generate_frames = 64\n",
    "\n",
    "memory_frames = 16\n",
    "\n",
    "for _ in tqdm(range(to_be_generate_frames)):\n",
    "    z = torch.randn(bsz, 4, 1, 32, 32, device=device)\n",
    "    model_kwargs = dict(\n",
    "        pos=pos,\n",
    "        past_frame=all_frames[:, :, -memory_frames:],\n",
    "        # past_pos=all_poses[:, :, -memory_frames:]\n",
    "        past_pos = past_pos\n",
    "    )\n",
    "\n",
    "    with torch.no_grad():\n",
    "        samples = diffusion.p_sample_loop(\n",
    "            model, z.shape, z, clip_denoised=False, model_kwargs=model_kwargs, progress=False, device=device\n",
    "        )\n",
    "    all_frames = torch.cat([all_frames, samples], dim=2)\n",
    "    all_poses = torch.cat([all_poses, pos], dim=2)"
   ]
  },
  {
   "cell_type": "code",
   "execution_count": 23,
   "metadata": {},
   "outputs": [
    {
     "data": {
      "text/plain": [
       "torch.Size([1, 4, 80, 32, 32])"
      ]
     },
     "execution_count": 23,
     "metadata": {},
     "output_type": "execute_result"
    }
   ],
   "source": [
    "all_frames.shape"
   ]
  },
  {
   "cell_type": "code",
   "execution_count": 24,
   "metadata": {},
   "outputs": [],
   "source": [
    "# samples = torch.cat([past_frame, samples], dim=2)\n",
    "_samples = rearrange(all_frames, \"N C T H W -> (N T) C H W\")\n",
    "# _samples = rearrange(all_frames[:, :, 16:], \"N C T H W -> (N T) C H W\")\n",
    "# _samples = rearrange(past_frame, \"N C T H W -> (N T) C H W\")\n",
    "with torch.no_grad():\n",
    "    samples = []\n",
    "    for frame in _samples[::8]:\n",
    "        samples.append(vae.decode(frame.unsqueeze(0) / 0.13025).sample)\n",
    "    samples = torch.cat(samples)\n",
    "samples = torch.clamp(samples, -1, 1)\n",
    "del _samples"
   ]
  },
  {
   "cell_type": "code",
   "execution_count": 25,
   "metadata": {},
   "outputs": [
    {
     "data": {
      "text/plain": [
       "torch.Size([10, 3, 256, 256])"
      ]
     },
     "execution_count": 25,
     "metadata": {},
     "output_type": "execute_result"
    }
   ],
   "source": [
    "samples.shape"
   ]
  },
  {
   "cell_type": "code",
   "execution_count": 26,
   "metadata": {},
   "outputs": [],
   "source": [
    "video = 255 * (samples.clip(-1, 1) / 2 + 0.5)"
   ]
  },
  {
   "cell_type": "code",
   "execution_count": 27,
   "metadata": {},
   "outputs": [],
   "source": [
    "import numpy as np\n",
    "import PIL.Image as Image\n",
    "\n",
    "screeshoot = Image.fromarray(np.uint8(rearrange(video.cpu().numpy(), \"T C H W -> H (T W) C\")))\n",
    "screeshoot.save(\"samples.png\")"
   ]
  },
  {
   "cell_type": "code",
   "execution_count": 14,
   "metadata": {},
   "outputs": [],
   "source": [
    "torchvision.io.write_video(\n",
    "    \"samples.mp4\",\n",
    "    video.permute(0, 2, 3, 1).cpu().numpy(),\n",
    "    fps=8,\n",
    "    video_codec=\"h264\",\n",
    ")"
   ]
  },
  {
   "cell_type": "code",
   "execution_count": 15,
   "metadata": {},
   "outputs": [],
   "source": [
    "import PIL\n",
    "import numpy as np\n",
    "img = PIL.Image.open(\"4.png\")\n",
    "img = np.asarray(img) / 255.\n",
    "img = torch.tensor(img)\n",
    "img = (img - 0.5) * 2"
   ]
  },
  {
   "cell_type": "code",
   "execution_count": 16,
   "metadata": {},
   "outputs": [],
   "source": [
    "from diffusers import DDIMScheduler\n",
    "noise_scheduler = DDIMScheduler()\n",
    "\n",
    "noise = torch.randn_like(img)\n",
    "noisy_model_input = noise_scheduler.add_noise(img, noise, torch.tensor([100])).clip(-1, 1)\n",
    "noisy_model_input = noisy_model_input / 2. + .5"
   ]
  },
  {
   "cell_type": "code",
   "execution_count": null,
   "metadata": {},
   "outputs": [],
   "source": [
    "PIL.Image.fromarray(np.uint8(noisy_model_input.numpy() * 255.))"
   ]
  },
  {
   "cell_type": "code",
   "execution_count": null,
   "metadata": {},
   "outputs": [],
   "source": []
  }
 ],
 "metadata": {
  "kernelspec": {
   "display_name": "envs",
   "language": "python",
   "name": "python3"
  },
  "language_info": {
   "codemirror_mode": {
    "name": "ipython",
    "version": 3
   },
   "file_extension": ".py",
   "mimetype": "text/x-python",
   "name": "python",
   "nbconvert_exporter": "python",
   "pygments_lexer": "ipython3",
   "version": "3.12.4"
  }
 },
 "nbformat": 4,
 "nbformat_minor": 2
}
